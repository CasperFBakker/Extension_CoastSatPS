{
 "cells": [
  {
   "cell_type": "code",
   "execution_count": null,
   "metadata": {},
   "outputs": [],
   "source": [
    "def Table2Point(Input_name, Output_name, directory):\n",
    "    \"\"\"\n",
    "        Creates points from .csv-file\n",
    "\n",
    "        Parameters:\n",
    "            Input_name : Name of the .csv-file\n",
    "            Output_name : Name of the points layer in GIS\n",
    "            directory : filepath of geo-database \n",
    "    \"\"\"\n",
    "    output_feature = os.path.join(directory, Output_name)\n",
    "    arcpy.management.XYTableToPoint(Input_name, output_feature, \n",
    "                                    \"x\", \"y\", None, 'PROJCS[\"RD_New\"] ... ') \n",
    "    return\n",
    "\n",
    "def Points2Line(Input_name, Output_name, directory):\n",
    "    \"\"\"\n",
    "        Creates a line from x-,y points\n",
    "\n",
    "        Parameters:\n",
    "            Input_name : Name of the points layer\n",
    "            Output_name : Name of the line in GIS\n",
    "            directory : filepath of geo-database \n",
    "    \"\"\"\n",
    "    output_feature = os.path.join(directory, Output_name)\n",
    "    arcpy.management.PointsToLine(Input_name, output_feature, None, None, \"NO_CLOSE\") \n",
    "    return\n",
    "\n",
    "def Feature2Poly(Input_name, Output_name, directory):\n",
    "    \"\"\"\n",
    "        Creates a polygon from a line\n",
    "\n",
    "        Parameters:\n",
    "            Input_name : Name of the line \n",
    "            Output_name : Name of the polygon in GIS\n",
    "            directory : filepath of geo-database \n",
    "    \"\"\"\n",
    "    output_feature = os.path.join(directory, Output_name)\n",
    "    arcpy.management.FeatureToPolygon(Input_name, output_feature, None, \"ATTRIBUTES\", None)\n",
    "    return\n",
    "\n",
    "def Clip(Input_name, Output_name, directory):\n",
    "    \"\"\"\n",
    "        Clip two polygons \n",
    "\n",
    "        Parameters:\n",
    "            Input_name : Name of the polygon that needs to be clipped \n",
    "            Output_name : Name of the clipped feature in GIS\n",
    "            directory : filepath of geo-database \n",
    "    \"\"\"\n",
    "    output_feature = os.path.join(directory, Output_name)\n",
    "    arcpy.analysis.Clip(Input_name, \"Backline_Poly\", output_feature, None)"
   ]
  },
  {
   "attachments": {},
   "cell_type": "markdown",
   "metadata": {},
   "source": [
    "First create x-,y points from .csv-files and make the points into a line"
   ]
  },
  {
   "cell_type": "code",
   "execution_count": null,
   "metadata": {},
   "outputs": [],
   "source": [
    "import os\n",
    "\n",
    "lst = [\"SLPos_2019-04-01_101952.csv\", \"SLPos_2019-04-21_085532.csv\"]\n",
    "names = [\"SLPos_2019_04_01\", \"SLPos_2019_04_21\"]\n",
    "\n",
    "directory = \"...\\\\toGeoDataBase_of_GIS_project.gdb\"\n",
    "\n",
    "for index, value in enumerate(lst):\n",
    "    Table2Point(value, names[index]+'_points', directory)\n",
    "    Points2Line(names[index]+'_points', names[index]+'_line', directory):"
   ]
  },
  {
   "attachments": {},
   "cell_type": "markdown",
   "metadata": {},
   "source": [
    "Continue the line feature to create a closed area that captures the whole beach area"
   ]
  },
  {
   "cell_type": "code",
   "execution_count": null,
   "metadata": {},
   "outputs": [],
   "source": [
    "for index, value in enumerate(lst):\n",
    "    Feature2Poly(names[index]+'_line', names[index]+'_polygon', directory)\n",
    "    Clip( names[index]+'_polygon',  names[index]+'_Clip', directory) # Clip with a polygon that has the backline of the beach"
   ]
  }
 ],
 "metadata": {
  "kernelspec": {
   "display_name": "Python 3",
   "language": "python",
   "name": "python3"
  },
  "language_info": {
   "codemirror_mode": {
    "name": "ipython",
    "version": 3
   },
   "file_extension": ".py",
   "mimetype": "text/x-python",
   "name": "python",
   "nbconvert_exporter": "python",
   "pygments_lexer": "ipython3",
   "version": "3.10.9"
  },
  "orig_nbformat": 4,
  "vscode": {
   "interpreter": {
    "hash": "e7370f93d1d0cde622a1f8e1c04877d8463912d04d973331ad4851f04de6915a"
   }
  }
 },
 "nbformat": 4,
 "nbformat_minor": 2
}
